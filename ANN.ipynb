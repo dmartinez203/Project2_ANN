{
 "cells": [
  {
   "cell_type": "code",
   "execution_count": 2,
   "metadata": {},
   "outputs": [],
   "source": [
    "import pandas as pd, numpy as np, json, joblib, torch, torch.nn as nn\n",
    "from torch.utils.data import DataLoader, TensorDataset\n",
    "from sklearn.model_selection import train_test_split\n",
    "from sklearn.preprocessing import StandardScaler"
   ]
  },
  {
   "cell_type": "code",
   "execution_count": 3,
   "metadata": {},
   "outputs": [],
   "source": [
    "csv_path = \"NBA_players.csv\"\n",
    "df = pd.read_csv(csv_path)"
   ]
  },
  {
   "cell_type": "code",
   "execution_count": 4,
   "metadata": {},
   "outputs": [],
   "source": [
    "# --------------------------\n",
    "# Choose 5-year window & pool of 100 players\n",
    "# --------------------------\n",
    "start_year, end_year = 2010, 2015\n",
    "df['season_start'] = df['season'].apply(lambda x: int(x.split('-')[0]))\n",
    "df = df[(df['season_start'] >= start_year) & (df['season_start'] <= end_year)]\n",
    "\n",
    "# Remove duplicate players\n",
    "df = df.drop_duplicates(subset=['player_name'], keep='first')\n",
    "\n",
    "if len(df) < 100:\n",
    "    raise ValueError(\"Not enough players in the chosen window.\")\n",
    "df = df.sample(100, random_state=42)  # pool of 100"
   ]
  },
  {
   "cell_type": "code",
   "execution_count": 5,
   "metadata": {},
   "outputs": [
    {
     "data": {
      "text/plain": [
       "['scaler.pkl']"
      ]
     },
     "execution_count": 5,
     "metadata": {},
     "output_type": "execute_result"
    }
   ],
   "source": [
    "features = ['pts', 'reb', 'ast', 'oreb_pct', 'dreb_pct', \n",
    "            'usg_pct', 'ts_pct', 'ast_pct', 'gp', 'net_rating']\n",
    "\n",
    "df['total_contrib'] = df['pts'] + df['reb'] + df['ast']\n",
    "median_contrib = df['total_contrib'].median()\n",
    "df['performance'] = (df['total_contrib'] >= median_contrib).astype(int)\n",
    "\n",
    "X = df[features].values\n",
    "y = df['performance'].values\n",
    "\n",
    "scaler = StandardScaler()\n",
    "X = scaler.fit_transform(X)\n",
    "joblib.dump(scaler, \"scaler.pkl\")"
   ]
  },
  {
   "cell_type": "code",
   "execution_count": 6,
   "metadata": {},
   "outputs": [],
   "source": [
    "X_train, X_test, y_train, y_test = train_test_split(\n",
    "    X, y, test_size=0.2, stratify=y, random_state=42\n",
    ")"
   ]
  },
  {
   "cell_type": "code",
   "execution_count": 7,
   "metadata": {},
   "outputs": [],
   "source": [
    "device = torch.device(\"cuda\" if torch.cuda.is_available() else \"cpu\")\n",
    "X_train_t = torch.tensor(X_train, dtype=torch.float32).to(device)\n",
    "y_train_t = torch.tensor(y_train, dtype=torch.long).to(device)\n",
    "X_test_t  = torch.tensor(X_test, dtype=torch.float32).to(device)\n",
    "y_test_t  = torch.tensor(y_test, dtype=torch.long).to(device)\n",
    "\n",
    "train_ds = TensorDataset(X_train_t, y_train_t)\n",
    "test_ds  = TensorDataset(X_test_t, y_test_t)\n",
    "train_loader = DataLoader(train_ds, batch_size=32, shuffle=True)\n",
    "test_loader  = DataLoader(test_ds, batch_size=64, shuffle=False)"
   ]
  },
  {
   "cell_type": "code",
   "execution_count": 8,
   "metadata": {},
   "outputs": [],
   "source": [
    "class PlayerMLP(nn.Module):\n",
    "    def __init__(self, input_dim):\n",
    "        super().__init__()\n",
    "        self.net = nn.Sequential(\n",
    "            nn.Linear(input_dim, 64), nn.ReLU(), nn.Dropout(0.2),\n",
    "            nn.Linear(64, 32), nn.ReLU(), nn.Dropout(0.2),\n",
    "            nn.Linear(32, 2)\n",
    "        )\n",
    "    def forward(self, x): return self.net(x)\n",
    "\n",
    "model = PlayerMLP(input_dim=X_train.shape[1]).to(device)\n",
    "\n",
    "criterion = nn.CrossEntropyLoss()\n",
    "optimizer = torch.optim.Adam(model.parameters(), lr=0.001)"
   ]
  },
  {
   "cell_type": "code",
   "execution_count": 9,
   "metadata": {},
   "outputs": [
    {
     "name": "stdout",
     "output_type": "stream",
     "text": [
      "Epoch 1/30, Loss: 0.7217\n",
      "Epoch 2/30, Loss: 0.6897\n",
      "Epoch 3/30, Loss: 0.6630\n",
      "Epoch 4/30, Loss: 0.6450\n",
      "Epoch 5/30, Loss: 0.6183\n",
      "Epoch 6/30, Loss: 0.6000\n",
      "Epoch 7/30, Loss: 0.5686\n",
      "Epoch 8/30, Loss: 0.5643\n",
      "Epoch 9/30, Loss: 0.5346\n",
      "Epoch 10/30, Loss: 0.5119\n",
      "Epoch 11/30, Loss: 0.5041\n",
      "Epoch 12/30, Loss: 0.4617\n",
      "Epoch 13/30, Loss: 0.4460\n",
      "Epoch 14/30, Loss: 0.4445\n",
      "Epoch 15/30, Loss: 0.4059\n",
      "Epoch 16/30, Loss: 0.3898\n",
      "Epoch 17/30, Loss: 0.3756\n",
      "Epoch 18/30, Loss: 0.3490\n",
      "Epoch 19/30, Loss: 0.3398\n",
      "Epoch 20/30, Loss: 0.3240\n",
      "Epoch 21/30, Loss: 0.2896\n",
      "Epoch 22/30, Loss: 0.3121\n",
      "Epoch 23/30, Loss: 0.2811\n",
      "Epoch 24/30, Loss: 0.2687\n",
      "Epoch 25/30, Loss: 0.2489\n",
      "Epoch 26/30, Loss: 0.2218\n",
      "Epoch 27/30, Loss: 0.2403\n",
      "Epoch 28/30, Loss: 0.2234\n",
      "Epoch 29/30, Loss: 0.2210\n",
      "Epoch 30/30, Loss: 0.1903\n"
     ]
    }
   ],
   "source": [
    "num_epochs = 30\n",
    "loss_history = []\n",
    "for epoch in range(num_epochs):\n",
    "    model.train()\n",
    "    running_loss = 0\n",
    "    for xb, yb in train_loader:\n",
    "        optimizer.zero_grad()\n",
    "        logits = model(xb)\n",
    "        loss = criterion(logits, yb)\n",
    "        loss.backward()\n",
    "        optimizer.step()\n",
    "        running_loss += loss.item() * xb.size(0)\n",
    "    epoch_loss = running_loss / len(train_loader.dataset)\n",
    "    loss_history.append(epoch_loss)\n",
    "    print(f\"Epoch {epoch+1}/{num_epochs}, Loss: {epoch_loss:.4f}\")"
   ]
  },
  {
   "cell_type": "code",
   "execution_count": 10,
   "metadata": {},
   "outputs": [],
   "source": [
    "torch.save(model.state_dict(), \"model_state_dict.pt\")\n",
    "with open(\"label_names.json\", \"w\") as f: \n",
    "    json.dump([\"Low\", \"High\"], f)"
   ]
  },
  {
   "cell_type": "code",
   "execution_count": 11,
   "metadata": {},
   "outputs": [
    {
     "name": "stdout",
     "output_type": "stream",
     "text": [
      "Test Accuracy: 0.9500\n"
     ]
    }
   ],
   "source": [
    "model.eval()\n",
    "correct, total = 0, 0\n",
    "with torch.no_grad():\n",
    "    for xb, yb in test_loader:\n",
    "        preds = model(xb).argmax(dim=1)\n",
    "        correct += (preds == yb).sum().item()\n",
    "        total += yb.size(0)\n",
    "print(f\"Test Accuracy: {correct/total:.4f}\")"
   ]
  },
  {
   "cell_type": "code",
   "execution_count": 12,
   "metadata": {},
   "outputs": [
    {
     "name": "stdout",
     "output_type": "stream",
     "text": [
      "\n",
      "Optimal Team (Unique Players):\n",
      "PG: Scott Machado (P=0.05)\n",
      "SG: Tyson Chandler (P=0.99)\n",
      "SF: Brandon Rush (P=0.72)\n",
      "PF: Kevin Love (P=1.00)\n",
      "C: Blake Griffin (P=1.00)\n"
     ]
    }
   ],
   "source": [
    "with torch.no_grad():\n",
    "    df['prob_high'] = torch.softmax(model(torch.tensor(X, dtype=torch.float32).to(device)), dim=1)[:,1].cpu().numpy()\n",
    "\n",
    "assigned_players = set()\n",
    "roles = {}\n",
    "\n",
    "# Helper: pick top player for role that hasn't been assigned yet\n",
    "def pick_unique(df_sorted):\n",
    "    for idx, row in df_sorted.iterrows():\n",
    "        if row['player_name'] not in assigned_players:\n",
    "            assigned_players.add(row['player_name'])\n",
    "            return row\n",
    "    return df_sorted.iloc[0]  # fallback\n",
    "\n",
    "# Define roles heuristically\n",
    "roles['PG'] = pick_unique(df.sort_values(\"ast_pct\", ascending=False))\n",
    "roles['SG'] = pick_unique(df.sort_values([\"ts_pct\",\"usg_pct\"], ascending=[False,False]))\n",
    "roles['SF'] = pick_unique(df.iloc[((df[['pts','reb','ast']].sum(axis=1) - df[['pts','reb','ast']].sum(axis=1).mean()).abs()).argsort()])\n",
    "roles['PF'] = pick_unique(df.sort_values([\"reb\",\"oreb_pct\"], ascending=[False,False]))\n",
    "roles['C']  = pick_unique(df.sort_values([\"reb\",\"dreb_pct\"], ascending=[False,False]))\n",
    "\n",
    "print(\"\\nOptimal Team (Unique Players):\")\n",
    "for role, player in roles.items():\n",
    "    print(f\"{role}: {player['player_name']} (P={player['prob_high']:.2f})\")\n"
   ]
  }
 ],
 "metadata": {
  "kernelspec": {
   "display_name": "py396",
   "language": "python",
   "name": "python3"
  },
  "language_info": {
   "codemirror_mode": {
    "name": "ipython",
    "version": 3
   },
   "file_extension": ".py",
   "mimetype": "text/x-python",
   "name": "python",
   "nbconvert_exporter": "python",
   "pygments_lexer": "ipython3",
   "version": "3.9.18"
  }
 },
 "nbformat": 4,
 "nbformat_minor": 2
}
